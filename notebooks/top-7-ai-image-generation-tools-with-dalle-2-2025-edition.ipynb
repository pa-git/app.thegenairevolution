{
  "cells": [
    {
      "cell_type": "markdown",
      "metadata": {},
      "source": [
        "# 📓 The GenAI Revolution Cookbook\n\n**Title:** Top 7 AI Image Generation Tools with DALL·E 2 [2025 Edition]\n\n**Description:** Unlock the full potential of AI image generation with DALL·E 2. Master API integration, prompt engineering, and output management for stunning results.\n\n---\n\n*This jupyter notebook contains executable code examples. Run the cells below to try out the code yourself!*\n\n"
      ]
    },
    {
      "cell_type": "markdown",
      "metadata": {},
      "source": [
        "## Introduction\n\nDALL·E 2 is OpenAI's image generation model that creates high-quality images from natural language descriptions. For developers building GenAI applications, DALL·E 2 offers a powerful API to integrate visual content generation into products—from marketing tools and design assistants to content creation platforms.\n\nThis guide walks you through the complete process of working with DALL·E 2: from API setup and authentication to generating images, handling variations, and implementing production-ready patterns. You'll learn how to craft effective prompts, manage API responses, and build reliable image generation workflows.\n\n## Why Use DALL·E 2?\n\nDALL·E 2 provides several advantages for developers building visual AI applications:\n\n- **High-quality output**: Generates photorealistic images and artwork with strong coherence between text and visual elements\n- **Simple API**: RESTful interface that integrates easily into existing Python applications\n- **Flexible generation**: Supports image creation from text, variations of existing images, and inpainting for edits\n- **Production-ready**: Built by OpenAI with enterprise-grade reliability, rate limiting, and content moderation\n\nDALL·E 2 is ideal when you need to generate custom visual content programmatically, whether for user-facing applications, internal tools, or automated content pipelines.\n\n## Core Concepts\n\nUnderstanding these key concepts will help you work effectively with DALL·E 2:\n\n**Prompts**: Natural language descriptions that guide image generation. Effective prompts are specific, descriptive, and include details about style, composition, and subject matter.\n\n**Image Generation**: The primary operation that creates images from text prompts. You specify size (256x256, 512x512, or 1024x1024) and quantity (1-10 images per request).\n\n**Variations**: Generate alternative versions of an existing image while maintaining its core characteristics. Useful for exploring design options or creating similar content.\n\n**Edits (Inpainting)**: Modify specific regions of an image using a mask and text prompt. This allows targeted changes without regenerating the entire image.\n\n**Response Format**: Images are returned as URLs (default) or base64-encoded data, depending on your application's needs.\n\n## Setup\n\nInstall the OpenAI Python client:"
      ]
    },
    {
      "cell_type": "code",
      "execution_count": null,
      "metadata": {},
      "outputs": [],
      "source": [
        "!pip install openai pillow requests"
      ]
    },
    {
      "cell_type": "markdown",
      "metadata": {},
      "source": [
        "Import required libraries and configure authentication:"
      ]
    },
    {
      "cell_type": "code",
      "execution_count": null,
      "metadata": {},
      "outputs": [],
      "source": [
        "import openai\nimport os\nfrom PIL import Image\nimport requests\nfrom io import BytesIO\n\n# Set your OpenAI API key\nopenai.api_key = os.getenv(\"OPENAI_API_KEY\")  # or set directly: \"your-api-key-here\""
      ]
    },
    {
      "cell_type": "markdown",
      "metadata": {},
      "source": [
        "Obtain your API key from the [OpenAI platform](https://platform.openai.com/api-keys). Store it securely using environment variables rather than hardcoding it in your scripts.\n\n## Generating Images from Text\n\nThe core functionality of DALL·E 2 is creating images from text descriptions:"
      ]
    },
    {
      "cell_type": "code",
      "execution_count": null,
      "metadata": {},
      "outputs": [],
      "source": [
        "def generate_image(prompt, size=\"1024x1024\", n=1):\n    \"\"\"\n    Generate images using DALL·E 2\n    \n    Args:\n        prompt: Text description of the desired image\n        size: Image dimensions (256x256, 512x512, or 1024x1024)\n        n: Number of images to generate (1-10)\n    \"\"\"\n    response = openai.Image.create(\n        prompt=prompt,\n        n=n,\n        size=size\n    )\n    return response['data']\n\n# Generate a single image\nprompt = \"A futuristic city skyline at sunset with flying cars, digital art style\"\nimages = generate_image(prompt, size=\"1024x1024\", n=1)\n\n# The response contains URLs to the generated images\nimage_url = images[0]['url']\nprint(f\"Generated image URL: {image_url}\")"
      ]
    },
    {
      "cell_type": "markdown",
      "metadata": {},
      "source": [
        "Download and display the generated image:"
      ]
    },
    {
      "cell_type": "code",
      "execution_count": null,
      "metadata": {},
      "outputs": [],
      "source": [
        "def download_image(url):\n    \"\"\"Download image from URL and return PIL Image object\"\"\"\n    response = requests.get(url)\n    return Image.open(BytesIO(response.content))\n\n# Download and save the image\nimg = download_image(image_url)\nimg.save(\"generated_image.png\")\nprint(\"Image saved as generated_image.png\")"
      ]
    },
    {
      "cell_type": "markdown",
      "metadata": {},
      "source": [
        "**Prompt Engineering Tips**:\n- Be specific about style, mood, and composition\n- Include details about lighting, perspective, and medium\n- Use descriptive adjectives and clear subject definitions\n- Experiment with artistic styles (e.g., \"oil painting\", \"3D render\", \"watercolor\")\n\n## Creating Image Variations\n\nGenerate variations of an existing image to explore alternative designs:"
      ]
    },
    {
      "cell_type": "code",
      "execution_count": null,
      "metadata": {},
      "outputs": [],
      "source": [
        "def create_variation(image_path, n=1, size=\"1024x1024\"):\n    \"\"\"\n    Create variations of an existing image\n    \n    Args:\n        image_path: Path to the source image (must be PNG, < 4MB, square)\n        n: Number of variations to generate\n        size: Output image size\n    \"\"\"\n    with open(image_path, \"rb\") as image_file:\n        response = openai.Image.create_variation(\n            image=image_file,\n            n=n,\n            size=size\n        )\n    return response['data']\n\n# Create variations of the generated image\nvariations = create_variation(\"generated_image.png\", n=2)\n\n# Download variations\nfor i, var in enumerate(variations):\n    img = download_image(var['url'])\n    img.save(f\"variation_{i}.png\")\n    print(f\"Saved variation_{i}.png\")"
      ]
    },
    {
      "cell_type": "markdown",
      "metadata": {},
      "source": [
        "**Important**: The source image must be a square PNG file under 4MB. Resize and convert images if needed before creating variations.\n\n## Editing Images with Inpainting\n\nUse inpainting to modify specific regions of an image:"
      ]
    },
    {
      "cell_type": "code",
      "execution_count": null,
      "metadata": {},
      "outputs": [],
      "source": [
        "def edit_image(image_path, mask_path, prompt, n=1, size=\"1024x1024\"):\n    \"\"\"\n    Edit an image using a mask and text prompt\n    \n    Args:\n        image_path: Path to the original image (PNG, < 4MB, square)\n        mask_path: Path to the mask image (PNG, transparent areas indicate edit regions)\n        prompt: Description of the desired edit\n        n: Number of edited versions to generate\n        size: Output image size\n    \"\"\"\n    with open(image_path, \"rb\") as image_file, open(mask_path, \"rb\") as mask_file:\n        response = openai.Image.create_edit(\n            image=image_file,\n            mask=mask_file,\n            prompt=prompt,\n            n=n,\n            size=size\n        )\n    return response['data']\n\n# Example: Edit a specific region\n# You need to create a mask image where transparent areas indicate what to edit\nedited = edit_image(\n    \"generated_image.png\",\n    \"mask.png\",\n    \"Add a bright full moon in the sky\",\n    n=1\n)\n\nimg = download_image(edited[0]['url'])\nimg.save(\"edited_image.png\")"
      ]
    },
    {
      "cell_type": "markdown",
      "metadata": {},
      "source": [
        "Create masks programmatically using PIL:"
      ]
    },
    {
      "cell_type": "code",
      "execution_count": null,
      "metadata": {},
      "outputs": [],
      "source": [
        "from PIL import Image, ImageDraw\n\ndef create_circular_mask(image_path, center, radius, output_path):\n    \"\"\"Create a circular mask for inpainting\"\"\"\n    img = Image.open(image_path).convert(\"RGBA\")\n    mask = Image.new(\"RGBA\", img.size, (0, 0, 0, 255))  # Opaque black\n    draw = ImageDraw.Draw(mask)\n    \n    # Draw transparent circle (area to edit)\n    left = center[0] - radius\n    top = center[1] - radius\n    right = center[0] + radius\n    bottom = center[1] + radius\n    draw.ellipse([left, top, right, bottom], fill=(0, 0, 0, 0))\n    \n    mask.save(output_path)\n    return output_path\n\n# Create a mask for the top-right region\ncreate_circular_mask(\"generated_image.png\", center=(768, 256), radius=200, output_path=\"mask.png\")"
      ]
    },
    {
      "cell_type": "markdown",
      "metadata": {},
      "source": [
        "## Building a Production-Ready Generator\n\nImplement error handling, retries, and response management for production use:"
      ]
    },
    {
      "cell_type": "code",
      "execution_count": null,
      "metadata": {},
      "outputs": [],
      "source": [
        "import time\nfrom typing import List, Optional\n\nclass DALLEGenerator:\n    \"\"\"Production-ready DALL·E 2 image generator with error handling\"\"\"\n    \n    def __init__(self, api_key: str, max_retries: int = 3):\n        openai.api_key = api_key\n        self.max_retries = max_retries\n    \n    def generate(self, prompt: str, size: str = \"1024x1024\", n: int = 1) -> List[str]:\n        \"\"\"Generate images with retry logic\"\"\"\n        for attempt in range(self.max_retries):\n            try:\n                response = openai.Image.create(\n                    prompt=prompt,\n                    n=n,\n                    size=size\n                )\n                return [img['url'] for img in response['data']]\n            \n            except openai.error.RateLimitError:\n                if attempt < self.max_retries - 1:\n                    wait_time = 2 ** attempt  # Exponential backoff\n                    print(f\"Rate limit hit. Waiting {wait_time}s...\")\n                    time.sleep(wait_time)\n                else:\n                    raise\n            \n            except openai.error.InvalidRequestError as e:\n                print(f\"Invalid request: {e}\")\n                raise\n            \n            except Exception as e:\n                print(f\"Unexpected error: {e}\")\n                if attempt < self.max_retries - 1:\n                    time.sleep(1)\n                else:\n                    raise\n    \n    def download_and_save(self, url: str, filepath: str) -> None:\n        \"\"\"Download image from URL and save to disk\"\"\"\n        try:\n            response = requests.get(url, timeout=30)\n            response.raise_for_status()\n            \n            img = Image.open(BytesIO(response.content))\n            img.save(filepath)\n            print(f\"Saved image to {filepath}\")\n        \n        except Exception as e:\n            print(f\"Failed to download image: {e}\")\n            raise\n\n# Usage example\ngenerator = DALLEGenerator(api_key=os.getenv(\"OPENAI_API_KEY\"))\n\nprompts = [\n    \"A serene mountain landscape with a lake reflection, photorealistic\",\n    \"Abstract geometric patterns in vibrant colors, modern art style\",\n    \"A cozy coffee shop interior with warm lighting, architectural photography\"\n]\n\nfor i, prompt in enumerate(prompts):\n    print(f\"\\nGenerating image {i+1}: {prompt}\")\n    urls = generator.generate(prompt, size=\"1024x1024\", n=1)\n    generator.download_and_save(urls[0], f\"output_{i}.png\")"
      ]
    },
    {
      "cell_type": "markdown",
      "metadata": {},
      "source": [
        "## Run and Evaluate\n\nTest the complete workflow:"
      ]
    },
    {
      "cell_type": "code",
      "execution_count": null,
      "metadata": {},
      "outputs": [],
      "source": [
        "# Initialize generator\ngenerator = DALLEGenerator(api_key=os.getenv(\"OPENAI_API_KEY\"))\n\n# Test prompt\ntest_prompt = \"A robot reading a book in a library, warm lighting, digital illustration\"\n\n# Generate image\nprint(\"Generating image...\")\nimage_urls = generator.generate(test_prompt, size=\"512x512\", n=1)\n\n# Download and save\ngenerator.download_and_save(image_urls[0], \"test_output.png\")\n\n# Create variations\nprint(\"\\nCreating variations...\")\nvariations = create_variation(\"test_output.png\", n=2, size=\"512x512\")\n\nfor i, var in enumerate(variations):\n    generator.download_and_save(var['url'], f\"test_variation_{i}.png\")\n\nprint(\"\\nGeneration complete. Check the output files.\")"
      ]
    },
    {
      "cell_type": "markdown",
      "metadata": {},
      "source": [
        "Monitor API usage and costs:"
      ]
    },
    {
      "cell_type": "code",
      "execution_count": null,
      "metadata": {},
      "outputs": [],
      "source": [
        "# Track generation costs (approximate)\ndef estimate_cost(size: str, n: int) -> float:\n    \"\"\"Estimate cost for DALL·E 2 generation (as of 2024)\"\"\"\n    costs = {\n        \"1024x1024\": 0.020,  # $0.020 per image\n        \"512x512\": 0.018,    # $0.018 per image\n        \"256x256\": 0.016     # $0.016 per image\n    }\n    return costs.get(size, 0.020) * n\n\n# Calculate cost for batch generation\ntotal_cost = sum(estimate_cost(\"1024x1024\", 1) for _ in prompts)\nprint(f\"Estimated cost for batch: ${total_cost:.3f}\")"
      ]
    },
    {
      "cell_type": "markdown",
      "metadata": {},
      "source": [
        "## Conclusion\n\nYou now have a complete foundation for integrating DALL·E 2 into your applications. You've learned how to generate images from text, create variations, perform targeted edits, and implement production-ready patterns with error handling and retry logic.\n\n**Key takeaways**:\n- Effective prompt engineering significantly impacts output quality\n- Always implement retry logic and error handling for API calls\n- Consider image size trade-offs between quality and cost\n- Use variations and edits to refine outputs iteratively\n\n**Next steps**:\n- Integrate DALL·E 2 into a web application or API service\n- Combine with GPT models for automated prompt generation\n- Implement caching strategies to reduce API costs\n- Explore content moderation and safety filters for user-generated prompts\n\nFor complete API documentation and updates, visit the [OpenAI DALL·E API reference](https://platform.openai.com/docs/guides/images)."
      ]
    }
  ],
  "metadata": {
    "title": "Top 7 AI Image Generation Tools with DALL·E 2 [2025 Edition]",
    "description": "Unlock the full potential of AI image generation with DALL·E 2. Master API integration, prompt engineering, and output management for stunning results.",
    "kernelspec": {
      "display_name": "Python 3",
      "language": "python",
      "name": "python3"
    },
    "language_info": {
      "name": "python",
      "version": "3.8.0"
    }
  },
  "nbformat": 4,
  "nbformat_minor": 4
}