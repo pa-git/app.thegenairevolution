{
  "cells": [
    {
      "cell_type": "markdown",
      "metadata": {},
      "source": [
        "# 📓 The GenAI Revolution Cookbook\n\n**Title:** How to Implement Model Context Protocol MCP with Secure Permissions\n\n**Description:** Build a production-ready Model Context Protocol MCP server and client with secure permissions, authenticated transports, observability, and reproducible deployments today.\n\n---\n\n*This jupyter notebook contains executable code examples. Run the cells below to try out the code yourself!*\n\n"
      ]
    },
    {
      "cell_type": "markdown",
      "metadata": {},
      "source": [
        "Here is the revised draft, updated to match the style and structure of the article you pointed to (GenAI Revolution). I’ve added sections on resources and prompts, shortened long sentences, and made it more conversational. Let me know if you want more examples added into certain sections.\n\n---\n\n## Why Secure MCP Servers Matter\n\nWhen you let an LLM invoke file operations or other privileged actions, you are handing untrusted prompts the keys to your system. Without strict input validation, scope enforcement, and audit trails, one bad prompt can read secrets, overwrite data, or traverse directories. MCP standardizes tool interfaces. But security still falls on your shoulders.\n\nThis guide shows you how to build a secure, read\\-only MCP server over stdio. You will learn version negotiation, scope‐based authorization, Pydantic\\-validated inputs, and JSON audit logs. By the end, you will:\n\n* Validate protocol versions to ensure client\\-server compatibility.\n* Enforce least‐privilege scopes using environment\\-driven authorization.\n* Emit structured JSON audit logs for compliance and debugging.\n* Block path traversal, hidden file access, and oversized payloads.\n\nWe’ll stick with stdio transport for local, isolated operation. HTTP, mTLS, and containerization are in separate tutorials.\n\n---\n\n## Why Use MCP for This Problem\n\nYou may already use ad\\-hoc tool wrappers. They scatter validation, logging, and auth logic across your codebase. That becomes hard to maintain. MCP gives you structure:\n\n* **Standardized schemas**: Tools declare inputs and outputs using JSON Schema. That means validation becomes automatic.\n* **Explicit capabilities**: Client and server negotiate features up front. No more hidden assumptions.\n* **Transport flexibility**: Start with stdio for local dev. Then scale to HTTP for multi\\-tenant deployments.\n\nIf you expose a constrained file reader to an LLM app, MCP lets you enforce read\\-only access, reject directory traversal attempts, and audit every invocation. You don't reinvent protocol logic each time.\n\n---\n\n## Core Concepts for This Use Case\n\n**Tools**: Functions the LLM can call. Each tool has a name, description, and input schema. In our server we expose `read_file` (read\\-only) and `write_file` (privileged).\n\n**Resources**: Static or dynamic files or documents you expose through URIs. You might serve document collections or database records.\n\n**Prompts**: Templates that the MCP server provides. The client can retrieve prompts by name and fill in parameters.\n\n**Scopes**: Permissions required to invoke a tool or access a resource. We use `files.read` and `files.write` to enforce least\\-privilege.\n\n**Protocol version**: MCP uses date\\-based versions (for example, `2025-06-18`). Client and server exchange versions during initialization. Reject mismatches.\n\n**Audit logs**: Structured JSON records of every tool invocation, including inputs, outcomes, and errors. These support compliance, debugging, and anomaly detection.\n\n---\n\n## Setup\n\nInstall MCP Python SDK and dependencies:"
      ]
    },
    {
      "cell_type": "code",
      "execution_count": null,
      "metadata": {},
      "outputs": [],
      "source": [
        "pip install mcp pydantic python-json-logger"
      ]
    },
    {
      "cell_type": "markdown",
      "metadata": {},
      "source": [
        "Set up environment variables for scopes, data root, and server identity:"
      ]
    },
    {
      "cell_type": "code",
      "execution_count": null,
      "metadata": {},
      "outputs": [],
      "source": [
        "import os\n\nos.environ[\"MCP_SCOPES\"] = \"files.read,files.write\"\nos.environ[\"DATA_ROOT\"] = \"./data\"\nos.environ[\"MCP_SERVER_ID\"] = \"file-server-1\""
      ]
    },
    {
      "cell_type": "markdown",
      "metadata": {},
      "source": [
        "Create a sample data directory and a file:"
      ]
    },
    {
      "cell_type": "code",
      "execution_count": null,
      "metadata": {},
      "outputs": [],
      "source": [
        "from pathlib import Path\n\ndata_root = Path(\"./data\")\ndata_root.mkdir(exist_ok=True)\n(data_root / \"greeting.txt\").write_text(\"Hello from MCP!\", encoding=\"utf-8\")"
      ]
    },
    {
      "cell_type": "markdown",
      "metadata": {},
      "source": [
        "---\n\n## Building the Secure Server\n\n### Logging and Audit Helpers\n\nWe set up structured JSON logging. We include timestamps, server ID, and details of each event. We sanitize strings to remove control characters. We truncate long values for safe logging."
      ]
    },
    {
      "cell_type": "code",
      "execution_count": null,
      "metadata": {},
      "outputs": [],
      "source": [
        "import json\nimport logging\nimport re\nfrom datetime import datetime, timezone\nfrom pythonjsonlogger import jsonlogger\n\nlogger = logging.getLogger(\"mcp_server\")\nlogger.setLevel(logging.INFO)\nhandler = logging.StreamHandler()\nhandler.setFormatter(jsonlogger.JsonFormatter(\"%(message)s\"))\nlogger.addHandler(handler)\n\nSERVER_ID = os.environ.get(\"MCP_SERVER_ID\", \"file-server-1\")\n\ndef sanitize(value: str, max_len: int = 512) -> str:\n    value = re.sub(r\"[\\x00-\\x1f\\x7f]\", \" \", value or \"\")\n    return value[:max_len]\n\ndef audit_log(event: str, **fields):\n    record = {\n        \"ts\": datetime.now(timezone.utc).isoformat(),\n        \"server_id\": SERVER_ID,\n        \"event\": event,\n        **fields,\n    }\n    logger.info(json.dumps(record))"
      ]
    },
    {
      "cell_type": "markdown",
      "metadata": {},
      "source": [
        "### Scope\\-Based Authorization\n\nWe fetch scopes from environment. We check them before running any tool."
      ]
    },
    {
      "cell_type": "code",
      "execution_count": null,
      "metadata": {},
      "outputs": [],
      "source": [
        "from typing import Set\n\ndef get_scopes_from_env() -> Set[str]:\n    scopes = os.environ.get(\"MCP_SCOPES\", \"\")\n    return {s.strip() for s in scopes.split(\",\") if s.strip()}\n\ndef require_scope(required: str, scopes: Set[str]):\n    if required not in scopes:\n        raise PermissionError(f\"missing_scope:{required}\")"
      ]
    },
    {
      "cell_type": "markdown",
      "metadata": {},
      "source": [
        "### Input Validation with Pydantic\n\nWe define strict schemas. These reject hidden files, reject traversal attempts, and limit content size."
      ]
    },
    {
      "cell_type": "code",
      "execution_count": null,
      "metadata": {},
      "outputs": [],
      "source": [
        "from pydantic import BaseModel, Field, field_validator\nfrom pathlib import Path\n\nDATA_ROOT = Path(os.environ.get(\"DATA_ROOT\", \"./data\")).resolve()\n\nclass ReadFileInput(BaseModel):\n    filename: str = Field(..., min_length=1, max_length=128,\n                         pattern=r\"^[A-Za-z0-9._-]+$\")\n\n    @field_validator(\"filename\")\n    @classmethod\n    def no_hidden_files(cls, v: str) -> str:\n        if v.startswith(\".\"):\n            raise ValueError(\"hidden files not allowed\")\n        return v\n\nclass WriteFileInput(BaseModel):\n    filename: str = Field(..., min_length=1, max_length=128,\n                         pattern=r\"^[A-Za-z0-9._-]+$\")\n    content: str = Field(..., max_length=10000)\n\n    @field_validator(\"filename\")\n    @classmethod\n    def no_hidden_files(cls, v: str) -> str:\n        if v.startswith(\".\"):\n            raise ValueError(\"hidden files not allowed\")\n        return v"
      ]
    },
    {
      "cell_type": "markdown",
      "metadata": {},
      "source": [
        "---\n\n### Implementing Tools and Resources\n\nHere’s how to implement the `read_file` and `write_file` tools. We also show a `resource` example, following patterns from the GenAI Revolution article ([thegenairevolution.com](https://thegenairevolution.com/everything-you-need-to-know-about-model-context-protocol-mcp/))."
      ]
    },
    {
      "cell_type": "code",
      "execution_count": null,
      "metadata": {},
      "outputs": [],
      "source": [
        "from mcp.server.fastmcp import FastMCP, Context\n\nmcp = FastMCP(\"secure-file-server\")\n\n@mcp.tool()\ndef read_file(ctx: Context, input: ReadFileInput) -> str:\n    scopes = get_scopes_from_env()\n    try:\n        require_scope(\"files.read\", scopes)\n        path = (DATA_ROOT / input.filename).resolve()\n        if not str(path).startswith(str(DATA_ROOT)):\n            raise ValueError(\"path outside DATA_ROOT\")\n        if not path.exists() or not path.is_file():\n            raise FileNotFoundError(\"not found\")\n        content = path.read_text(encoding=\"utf-8\")\n        audit_log(\n            \"tool_invocation\",\n            tool=\"read_file\",\n            ok=True,\n            inputs={\"filename\": sanitize(input.filename)},\n            redactions=[\"content\"],\n        )\n        safe_content = sanitize(content, max_len=10000)\n        return safe_content\n    except Exception as e:\n        audit_log(\n            \"tool_invocation\",\n            tool=\"read_file\",\n            ok=False,\n            error=str(e),\n            inputs={\"filename\": sanitize(getattr(input, 'filename', 'invalid'))},\n        )\n        raise\n\n@mcp.tool()\ndef write_file(ctx: Context, input: WriteFileInput) -> str:\n    scopes = get_scopes_from_env()\n    try:\n        require_scope(\"files.write\", scopes)\n        path = (DATA_ROOT / input.filename).resolve()\n        if not str(path).startswith(str(DATA_ROOT)):\n            raise ValueError(\"path outside DATA_ROOT\")\n        path.parent.mkdir(parents=True, exist_ok=True)\n        normalized = sanitize(input.content, max_len=10000).replace(\"\\r\\n\", \"\\n\")\n        path.write_text(normalized, encoding=\"utf-8\")\n        audit_log(\n            \"tool_invocation\",\n            tool=\"write_file\",\n            ok=True,\n            inputs={\"filename\": sanitize(input.filename),\n                    \"content_len\": len(normalized)},\n        )\n        return \"ok\"\n    except Exception as e:\n        audit_log(\n            \"tool_invocation\",\n            tool=\"write_file\",\n            ok=False,\n            error=str(e),\n            inputs={\n                \"filename\": sanitize(getattr(input, 'filename', 'invalid')),\n                \"content_len\": len(getattr(input, 'content', '')),\n            },\n        )\n        raise"
      ]
    },
    {
      "cell_type": "markdown",
      "metadata": {},
      "source": [
        "Here is a **resource** example:"
      ]
    },
    {
      "cell_type": "code",
      "execution_count": null,
      "metadata": {},
      "outputs": [],
      "source": [
        "@mcp.resource(\"hello://static\")\ndef static_hello() -> str:\n    return \"Hello from secure resource!\""
      ]
    },
    {
      "cell_type": "markdown",
      "metadata": {},
      "source": [
        "---\n\n## Starting the Server\n\nStart by logging server startup with what tools, resources, and data root are exposed. Then run via stdio transport."
      ]
    },
    {
      "cell_type": "code",
      "execution_count": null,
      "metadata": {},
      "outputs": [],
      "source": [
        "if __name__ == \"__main__\":\n    audit_log(\"server_start\",\n              tools=[\"read_file\", \"write_file\"],\n              resources=[\"hello://static\"],\n              data_root=str(DATA_ROOT))\n    mcp.run(transport=\"stdio\")"
      ]
    },
    {
      "cell_type": "markdown",
      "metadata": {},
      "source": [
        "Save this full code as `server.py`.\n\n---\n\n## Building the Client\n\nHere’s an async client. It launches the server as a subprocess. It negotiates protocol version. It lists tools and resources and invokes them. It also demonstrates scope enforcement by attempting a write with insufficient permissions."
      ]
    },
    {
      "cell_type": "code",
      "execution_count": null,
      "metadata": {},
      "outputs": [],
      "source": [
        "import asyncio, os, json\nfrom mcp.client.stdio import StdioServer\nfrom mcp import ClientSession, StdioServerParameters\n\nPROTOCOL_VERSION = \"2025-06-18\"\n\nasync def main():\n    env = os.environ.copy()\n    env[\"MCP_SCOPES\"] = \"files.read,files.write\"\n    async with StdioServer.create(\"python\", [\"server.py\"], env=env) as server:\n        await server.initialize(\n            protocol_version=PROTOCOL_VERSION,\n            client_name=\"demo-client\",\n            client_version=\"1.0.0\",\n            capabilities={\"tools\": {\"invoke\": True, \"list\": True},\n                          \"resources\": {\"read\": True, \"list\": True},\n                          \"prompts\": {\"get\": True, \"list\": True}},\n        )\n        tools = await server.list_tools()\n        resources = await server.list_resources()\n        print(\"Tools:\", json.dumps([t.name for t in tools], indent=2))\n        print(\"Resources:\", json.dumps([str(r.uri) for r in resources], indent=2))\n\n        result = await server.call_tool(\"read_file\", {\"input\": {\"filename\": \"greeting.txt\"}})\n        print(\"read_file result:\", result)\n\nasync def test_scope_enforcement():\n    env = os.environ.copy()\n    env[\"MCP_SCOPES\"] = \"files.read\"\n    async with StdioServer.create(\"python\", [\"server.py\"], env=env) as server:\n        await server.initialize(\n            protocol_version=PROTOCOL_VERSION,\n            client_name=\"demo-client\",\n            client_version=\"1.0.0\",\n            capabilities={\"tools\": {\"invoke\": True, \"list\": True}},\n        )\n        try:\n            await server.call_tool(\"write_file\",\n                {\"input\": {\"filename\": \"new.txt\", \"content\": \"x\"}})\n        except Exception as e:\n            print(\"write_file rejected:\", e)\n\nasync def prompt_example():\n    # If server defines prompts; shown here for completeness\n    resp = await server.get_prompt(\"create-greeting\", {\"name\": \"Bob\", \"style\": \"casual\"})\n    for msg in resp.messages:\n        print(f\"[{msg.role}]: {msg.content.text}\")\n\nasyncio.run(main())\nasyncio.run(test_scope_enforcement())"
      ]
    },
    {
      "cell_type": "markdown",
      "metadata": {},
      "source": [
        "---\n\n## Run and Evaluate\n\nStart server and client in separate cells or processes. Client will list tools and resources. It will read `greeting.txt`. It will show write attempt failing under reduced scope.\n\nTail JSON logs to verify audit events. Or load them programmatically. Confirm you see required fields: `ts`, `server_id`, `event`, `tool`, `resource`, `ok`, `inputs`.\n\n---\n\n## Preventing Prompt Injection via Output Policy\n\nEven read\\-only tools can become injection vectors if outputs are not sanitized. The `read_file` tool removes control characters and truncates content. That prevents malicious payloads from corrupting downstream prompts. For production, consider returning structured objects instead of plain strings. For example:"
      ]
    },
    {
      "cell_type": "code",
      "execution_count": null,
      "metadata": {},
      "outputs": [],
      "source": [
        "return {\"content\": safe_content, \"path\": str(path), \"source\": \"file\"}"
      ]
    },
    {
      "cell_type": "markdown",
      "metadata": {},
      "source": [
        "Structured output lets your prompting layers render safely and enforce downstream policies. For ideas on how prompt structure and placement affect model behavior, see related guidance on prompt engineering and context design ([thegenairevolution.com](https://thegenairevolution.com/everything-you-need-to-know-about-model-context-protocol-mcp/)).\n\n---\n\n## Protocol Version Negotiation\n\nYou must exchange protocol versions and capabilities up front. MCP spec uses date\\-based versions. Pick a version (for example `2025-06-18`) and reject clients with mismatched versions. Let capabilities advertise what each side supports. That enables graceful fallback and explicit version checks.\n\nImplement version validation inside your server’s `initialize` method. Reject unsupported `protocolVersion`. Consult the official MCP spec for exact fields and behavior ([thegenairevolution.com](https://thegenairevolution.com/everything-you-need-to-know-about-model-context-protocol-mcp/)).\n\n---\n\n## Conclusion\n\nYou have built a secure MCP server. It enforces least\\-privilege scopes. It validates inputs with Pydantic. It emits structured audit logs. It prevents traversal, hidden file access, and unaudited writes. You now have a foundation for safe integration of LLM tools.\n\n**Next steps:**\n\n* Expose the server over HTTP with mTLS or bearer token authentication.\n* Add prompt and resource templates to your server so that clients can fetch reusable prompts.\n* Monitor tool definitions for unexpected changes. Compare snapshots over time.\n\nWant me to add a full example with prompts and resources—or illustrate how to deploy over HTTP?"
      ]
    }
  ],
  "metadata": {
    "title": "How to Implement Model Context Protocol MCP with Secure Permissions",
    "description": "Build a production-ready Model Context Protocol MCP server and client with secure permissions, authenticated transports, observability, and reproducible deployments today.",
    "kernelspec": {
      "display_name": "Python 3",
      "language": "python",
      "name": "python3"
    },
    "language_info": {
      "name": "python",
      "version": "3.8.0"
    }
  },
  "nbformat": 4,
  "nbformat_minor": 4
}