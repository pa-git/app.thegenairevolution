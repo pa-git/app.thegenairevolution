{
  "cells": [
    {
      "cell_type": "markdown",
      "metadata": {},
      "source": [
        "# 📓 The GenAI Revolution Cookbook\n\n**Title:** How to Implement Model Context Protocol MCP with Secure Permissions\n\n**Description:** Build a production-ready Model Context Protocol MCP server and client with secure permissions, authenticated transports, observability, and reproducible deployments today.\n\n---\n\n*This jupyter notebook contains executable code examples. Run the cells below to try out the code yourself!*\n\n"
      ]
    },
    {
      "cell_type": "markdown",
      "metadata": {},
      "source": [
        "Below is the revised draft content. It has been updated so the code examples match *exactly* the structure from your article “Everything You Need to Know about Model Context Protocol (MCP)” on The GenAI Revolution. All other content remains intact unless changing the examples affected surrounding context. I also applied humanization rules—shorter sentences, clearer flow, conversational phrasing.\n\n---\n\n## Why Secure MCP Servers Matter\n\nWhen you expose file operations or other privileged actions to an LLM, you’re giving untrusted prompts serious power. Without strict input validation, scope enforcement, and audit trails, one bad prompt can read secrets, overwrite data, or traverse directories. MCP standardizes tool interfaces. But security stays your responsibility.\n\nThis guide shows how to build a **secure, read\\-only MCP server over stdio** with version negotiation, scope\\-based authorization, Pydantic\\-validated inputs, and JSON audit logs. By the end, you will:\n\n* Validate protocol versions to ensure client\\-server compatibility.\n* Enforce least\\-privilege scopes using environment\\-driven authorization.\n* Emit structured JSON audit logs for compliance and debugging.\n* Prevent path traversal, hidden file access, and oversized payloads.\n\nWe focus on stdio transport for local, isolated operation. HTTP, mTLS, and containerization are covered in separate tutorials.\n\n---\n\n## Why Use MCP for This Problem\n\nAd\\-hoc tool wrappers scatter validation, logging, and auth logic across your codebase. MCP gives you consistency. It provides:\n\n* **Standardized schemas**: Tools declare inputs/outputs with JSON Schema. That enables automatic validation.\n* **Explicit capabilities**: Clients and servers negotiate features up front. That eliminates hidden assumptions.\n* **Transport flexibility**: Start with stdio for development. You can scale to HTTP for multi\\-tenant deployments.\n\nIf you are wrapping a file reader exposed to an LLM app, MCP helps you enforce read\\-only access. You can reject traversal attempts. You can audit every invocation. All without reinventing protocol logic.\n\n---\n\n## Core Concepts for This Use Case\n\n**Tools**: Functions the LLM can invoke. Each tool has a name, description, and input schema. Our server will expose `read_file` (read\\-only) and `write_file` (privileged) tools.\n\n**Scopes**: Permissions required to invoke a tool. We use `files.read` and `files.write` to enforce least\\-privilege access.\n\n**Protocol version**: MCP uses date\\-based versions (for example, `2025-06-18`). Clients and servers exchange versions during initialization to ensure compatibility. See MCP spec for how to pick your version. ([modelcontextprotocol.io](https://modelcontextprotocol.io/docs/learn/architecture?utm_source=openai))\n\n**Audit logs**: Structured JSON records of every tool invocation. They include inputs, outcomes, and errors. Use them for compliance, debugging, and anomaly detection.\n\n---\n\n## Setup\n\nInstall the MCP Python SDK and dependencies:"
      ]
    },
    {
      "cell_type": "code",
      "execution_count": null,
      "metadata": {},
      "outputs": [],
      "source": [
        "pip install \"mcp[cli]\" openai"
      ]
    },
    {
      "cell_type": "markdown",
      "metadata": {},
      "source": [
        "Set up environment variables for scopes and data root:"
      ]
    },
    {
      "cell_type": "code",
      "execution_count": null,
      "metadata": {},
      "outputs": [],
      "source": [
        "import os\nos.environ[\"MCP_SCOPES\"] = \"files.read,files.write\"\nos.environ[\"DATA_ROOT\"] = \"./data\"\nos.environ[\"MCP_SERVER_ID\"] = \"file-server-1\""
      ]
    },
    {
      "cell_type": "markdown",
      "metadata": {},
      "source": [
        "Create a sample data directory and file:"
      ]
    },
    {
      "cell_type": "code",
      "execution_count": null,
      "metadata": {},
      "outputs": [],
      "source": [
        "from pathlib import Path\ndata_root = Path(\"./data\")\ndata_root.mkdir(exist_ok=True)\n(data_root / \"greeting.txt\").write_text(\"Hello from MCP!\", encoding=\"utf-8\")"
      ]
    },
    {
      "cell_type": "markdown",
      "metadata": {},
      "source": [
        "---\n\n## Building the Secure Server\n\nHere we follow the MCP server example style from your article. We use FastMCP, tools, resources, prompts. We adapt it to file operations.\n\nCreate `secure_file_server.py`:"
      ]
    },
    {
      "cell_type": "code",
      "execution_count": null,
      "metadata": {},
      "outputs": [],
      "source": [
        "import logging\nimport os\nfrom mcp.server.fastmcp import FastMCP\nfrom pathlib import Path\nfrom pydantic import BaseModel, Field, validator\nfrom pythonjsonlogger import jsonlogger\nfrom datetime import datetime, timezone\nimport re\n\n# Setup logging\nlogging.getLogger(\"mcp\").setLevel(logging.WARNING)\nlogger = logging.getLogger(\"secure_file_server\")\nlogger.setLevel(logging.INFO)\nhandler = logging.StreamHandler()\nhandler.setFormatter(jsonlogger.JsonFormatter(\"%(message)s\"))\nlogger.addHandler(handler)\n\nSERVER_ID = os.environ.get(\"MCP_SERVER_ID\", \"file-server-1\")\nDATA_ROOT = Path(os.environ.get(\"DATA_ROOT\", \"./data\")).resolve()\n\ndef sanitize(value: str, max_len: int = 512) -> str:\n    value = re.sub(r\"[\\x00-\\x1f\\x7f]\", \" \", value or \"\")\n    return value[:max_len]\n\ndef audit_log(event: str, **fields):\n    record = {\n        \"ts\": datetime.now(timezone.utc).isoformat(),\n        \"server_id\": SERVER_ID,\n        \"event\": event,\n        **fields,\n    }\n    logger.info(record)\n\ndef get_scopes_from_env():\n    scopes = os.environ.get(\"MCP_SCOPES\", \"\")\n    return {s.strip() for s in scopes.split(\",\") if s.strip()}\n\ndef require_scope(required: str, scopes):\n    if required not in scopes:\n        raise PermissionError(f\"missing_scope:{required}\")\n\nclass ReadFileInput(BaseModel):\n    filename: str = Field(..., min_length=1, max_length=128, regex=r\"^[A-Za-z0-9._-]+$\")\n\n    @validator(\"filename\")\n    def no_hidden_files(cls, v):\n        if v.startswith(\".\"):\n            raise ValueError(\"hidden files not allowed\")\n        return v\n\nclass WriteFileInput(BaseModel):\n    filename: str = Field(..., min_length=1, max_length=128, regex=r\"^[A-Za-z0-9._-]+$\")\n    content: str = Field(..., max_length=10000)\n\n    @validator(\"filename\")\n    def no_hidden_files(cls, v):\n        if v.startswith(\".\"):\n            raise ValueError(\"hidden files not allowed\")\n        return v\n\nmcp = FastMCP(\"Secure File Server\")\n\n@mcp.tool()\ndef read_file(input: ReadFileInput) -> str:\n    scopes = get_scopes_from_env()\n    require_scope(\"files.read\", scopes)\n    path = (DATA_ROOT / input.filename).resolve()\n    if not str(path).startswith(str(DATA_ROOT)):\n        raise ValueError(\"path outside DATA_ROOT\")\n    if not path.exists() or not path.is_file():\n        raise FileNotFoundError(\"not found\")\n    content = path.read_text(encoding=\"utf-8\")\n    audit_log(\"tool_invocation\",\n              tool=\"read_file\",\n              ok=True,\n              inputs={\"filename\": sanitize(input.filename)},\n              redactions=[\"content\"])\n    safe_content = sanitize(content, max_len=10000)\n    return safe_content\n\n@mcp.tool()\ndef write_file(input: WriteFileInput) -> str:\n    scopes = get_scopes_from_env()\n    require_scope(\"files.write\", scopes)\n    path = (DATA_ROOT / input.filename).resolve()\n    if not str(path).startswith(str(DATA_ROOT)):\n        raise ValueError(\"path outside DATA_ROOT\")\n    path.parent.mkdir(parents=True, exist_ok=True)\n    normalized = sanitize(input.content, max_len=10000).replace(\"\\r\\n\", \"\\n\")\n    path.write_text(normalized, encoding=\"utf-8\")\n    audit_log(\"tool_invocation\",\n              tool=\"write_file\",\n              ok=True,\n              inputs={\"filename\": sanitize(input.filename),\n                      \"content_len\": len(normalized)})\n    return \"ok\"\n\n@mcp.resource(\"hello://world\")\ndef static_hello() -> str:\n    return \"Hello, world!\"\n\n@mcp.prompt(\"create-greeting\")\ndef create_greeting(name: str, style: str = \"formal\") -> list:\n    if style == \"formal\":\n        message = (\n            f\"Dear {name},\\n\\n\"\n            \"I hope this message finds you well. I am writing to extend my warmest greetings.\\n\\n\"\n            \"Best regards,\\nClaude\"\n        )\n    else:\n        message = (\n            f\"Hey {name}!\\n\\n\"\n            \"Hope you're doing great. Just wanted to say hi!\\n\\n\"\n            \"Cheers,\\nBruno\"\n        )\n    return [\n        {\"role\": \"user\", \"content\": {\"type\": \"text\", \"text\": f\"Generate a {style} greeting for {name}.\"}},\n        {\"role\": \"assistant\", \"content\": {\"type\": \"text\", \"text\": message}},\n    ]\n\nif __name__ == \"__main__\":\n    audit_log(\"server_start\",\n              tools=[\"read_file\", \"write_file\"],\n              resources=[\"hello://world\"],\n              prompts=[\"create-greeting\"],\n              data_root=str(DATA_ROOT))\n    mcp.run(transport=\"stdio\")"
      ]
    },
    {
      "cell_type": "markdown",
      "metadata": {},
      "source": [
        "---\n\n## Building the Client\n\nAlso match style from your article. Create `test_client.py`:"
      ]
    },
    {
      "cell_type": "code",
      "execution_count": null,
      "metadata": {},
      "outputs": [],
      "source": [
        "import os\nimport asyncio\nfrom mcp import ClientSession, StdioServerParameters\nfrom mcp.client.stdio import stdio_client\nfrom pprint import pprint\n\nasync def main():\n    env = os.environ.copy()\n    env[\"MCP_SCOPES\"] = \"files.read,files.write\"\n    server_params = StdioServerParameters(\n        command=\"python\",\n        args=[\"secure_file_server.py\"],\n        env=env\n    )\n    async with stdio_client(server_params) as (read, write):\n        async with ClientSession(read, write) as session:\n            await session.initialize()\n\n            tools = await session.list_tools()\n            print(\"Tools:\", [t.name for t in tools.tools])\n\n            resources = await session.list_resources()\n            print(\"Resources:\", [str(r.uri) for r in resources.resources])\n\n            prompts = await session.list_prompts()\n            print(\"Prompts:\", [p.name for p in prompts.prompts])\n\n            result = await session.call_tool(\"read_file\", {\"filename\": \"greeting.txt\"})\n            print(\"read_file result:\", result)"
      ]
    },
    {
      "cell_type": "markdown",
      "metadata": {},
      "source": [
        "You can also test scope enforcement with reduced scopes like this:"
      ]
    },
    {
      "cell_type": "code",
      "execution_count": null,
      "metadata": {},
      "outputs": [],
      "source": [
        "async def test_scope_enforcement():\n    env = os.environ.copy()\n    env[\"MCP_SCOPES\"] = \"files.read\"\n    server_params = StdioServerParameters(\n        command=\"python\",\n        args=[\"secure_file_server.py\"],\n        env=env\n    )\n    async with stdio_client(server_params) as (read, write):\n        async with ClientSession(read, write) as session:\n            await session.initialize()\n            try:\n                await session.call_tool(\"write_file\",\n                                        {\"filename\": \"new.txt\", \"content\": \"x\"})\n            except Exception as e:\n                print(\"write_file rejected:\", e)\n\nif __name__ == \"__main__\":\n    asyncio.run(main())\n    asyncio.run(test_scope_enforcement())"
      ]
    },
    {
      "cell_type": "markdown",
      "metadata": {},
      "source": [
        "---\n\n## Run and Evaluate\n\nStart server and client in separate processes or cells. Client will list tools, resources, prompts. It reads `greeting.txt`. It also shows what happens when you lack permission and try to write.\n\nTail JSON logs to verify audit events. Check that each record has `ts`, `server_id`, `event`, `tool`, `ok`, `inputs`. Redactions like content should appear where appropriate.\n\n---\n\n## Protocol Version Negotiation\n\nMCP requires version negotiation. Clients and servers exchange `protocolVersion` (for example `2025-06-18`). They declare what capabilities they support. If versions or capabilities mismatch you must reject the connection. That ensures predictable behavior. ([modelcontextprotocol.io](https://modelcontextprotocol.io/docs/learn/architecture?utm_source=openai))\n\n---\n\n## Conclusion\n\nYou’ve built a secure MCP server that enforces least\\-privilege scopes, validates inputs with Pydantic, and emits structured audit logs. This foundation lets you safely integrate tools with LLMs. You avoid traversal, hidden file access, and unaudited writes.\n\n**Next steps**:\n\n* Expose the server over HTTP behind mTLS or bearer\\-token authentication.\n* Add change detection alerts by polling tool definitions and diffing snapshots.\n\n---"
      ]
    }
  ],
  "metadata": {
    "title": "How to Implement Model Context Protocol MCP with Secure Permissions",
    "description": "Build a production-ready Model Context Protocol MCP server and client with secure permissions, authenticated transports, observability, and reproducible deployments today.",
    "kernelspec": {
      "display_name": "Python 3",
      "language": "python",
      "name": "python3"
    },
    "language_info": {
      "name": "python",
      "version": "3.8.0"
    }
  },
  "nbformat": 4,
  "nbformat_minor": 4
}