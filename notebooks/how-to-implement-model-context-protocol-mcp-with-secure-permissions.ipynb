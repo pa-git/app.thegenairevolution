{
  "cells": [
    {
      "cell_type": "markdown",
      "metadata": {},
      "source": [
        "# 📓 The GenAI Revolution Cookbook\n\n**Title:** How to Implement Model Context Protocol MCP with Secure Permissions\n\n**Description:** Build a production-ready Model Context Protocol MCP server and client with secure permissions, authenticated transports, observability, and reproducible deployments today.\n\n---\n\n*This jupyter notebook contains executable code examples. Run the cells below to try out the code yourself!*\n\n"
      ]
    },
    {
      "cell_type": "markdown",
      "metadata": {},
      "source": [
        "## Why Secure MCP Servers Matter\n\nWhen you expose file operations or other privileged actions to an LLM, you're handing untrusted prompts the keys to your system. Without strict input validation, scope enforcement, and audit trails, a single malicious or malformed prompt can read secrets, overwrite data, or traverse directories. MCP standardizes tool interfaces, but security is your responsibility.\n\nThis guide shows you how to build a **secure, read-only MCP server over stdio** with version negotiation, scope-based authorization, Pydantic-validated inputs, and JSON audit logs. By the end, you will:\n\n- Validate protocol versions to ensure client-server compatibility.\n- Enforce least-privilege scopes using environment-driven authorization.\n- Emit structured JSON audit logs for compliance and debugging.\n- Prevent path traversal, hidden file access, and oversized payloads.\n\nWe'll focus on stdio transport for local, isolated operation. HTTP, mTLS, and containerization are covered in separate tutorials.\n\n---\n\n## Why Use MCP for This Problem\n\nAd-hoc tool wrappers scatter validation, logging, and auth logic across your codebase. MCP provides:\n\n- **Standardized schemas**: Tools declare inputs/outputs with JSON Schema, enabling automatic validation.\n- **Explicit capabilities**: Clients and servers negotiate features up front, eliminating hidden assumptions.\n- **Transport flexibility**: Start with stdio for local dev, scale to HTTP for multi-tenant deployments.\n\nFor a constrained file reader exposed to an LLM app, MCP lets you enforce read-only access, reject traversal attempts, and audit every invocation—without reinventing protocol logic.\n\n---\n\n## Core Concepts for This Use Case\n\n**Tools**: Functions the LLM can invoke. Each tool has a name, description, and input schema. Our server exposes `read_file` (read-only) and `write_file` (privileged).\n\n**Scopes**: Permissions required to invoke a tool. We use `files.read` and `files.write` to enforce least-privilege access.\n\n**Protocol version**: MCP uses date-based versions (e.g., `2025-06-18`). Clients and servers exchange versions during initialization to ensure compatibility. For more on choosing the right model for your application and environment, check out our guide on [how to pick an LLM](/article/how-to-choose-an-ai-model-for-your-app-speed-cost-reliability).\n\n**Audit logs**: Structured JSON records of every tool invocation, including inputs, outcomes, and errors. These logs support compliance, debugging, and anomaly detection.\n\n---\n\n## Setup\n\nInstall the MCP Python SDK and dependencies:"
      ]
    },
    {
      "cell_type": "code",
      "execution_count": null,
      "metadata": {},
      "outputs": [],
      "source": [
        "!pip install mcp pydantic python-json-logger"
      ]
    },
    {
      "cell_type": "markdown",
      "metadata": {},
      "source": [
        "Set up environment variables for scopes and data root:"
      ]
    },
    {
      "cell_type": "code",
      "execution_count": null,
      "metadata": {},
      "outputs": [],
      "source": [
        "import os\nos.environ[\"MCP_SCOPES\"] = \"files.read,files.write\"\nos.environ[\"DATA_ROOT\"] = \"./data\"\nos.environ[\"MCP_SERVER_ID\"] = \"file-server-1\""
      ]
    },
    {
      "cell_type": "markdown",
      "metadata": {},
      "source": [
        "Create a sample data directory and file:"
      ]
    },
    {
      "cell_type": "code",
      "execution_count": null,
      "metadata": {},
      "outputs": [],
      "source": [
        "from pathlib import Path\ndata_root = Path(\"./data\")\ndata_root.mkdir(exist_ok=True)\n(data_root / \"greeting.txt\").write_text(\"Hello from MCP!\", encoding=\"utf-8\")"
      ]
    },
    {
      "cell_type": "markdown",
      "metadata": {},
      "source": [
        "---\n\n## Building the Secure Server\n\n### Step 1: Logging and Audit Helpers\n\nSet up structured JSON logging to emit audit events with timestamps, server ID, and event details. This helper sanitizes strings to remove control characters and truncate for safe logging."
      ]
    },
    {
      "cell_type": "code",
      "execution_count": null,
      "metadata": {},
      "outputs": [],
      "source": [
        "import json\nimport logging\nimport re\nfrom datetime import datetime, timezone\nfrom pythonjsonlogger import jsonlogger\n\nlogger = logging.getLogger(\"mcp_server\")\nlogger.setLevel(logging.INFO)\nhandler = logging.StreamHandler()\nhandler.setFormatter(jsonlogger.JsonFormatter(\"%(message)s\"))\nlogger.addHandler(handler)\n\nSERVER_ID = os.environ.get(\"MCP_SERVER_ID\", \"file-server-1\")\n\ndef sanitize(value: str, max_len: int = 512) -> str:\n    value = re.sub(r\"[\\x00-\\x1f\\x7f]\", \" \", value or \"\")\n    return value[:max_len]\n\ndef audit_log(event: str, **fields):\n    record = {\n        \"ts\": datetime.now(timezone.utc).isoformat(),\n        \"server_id\": SERVER_ID,\n        \"event\": event,\n        **fields,\n    }\n    logger.info(json.dumps(record))"
      ]
    },
    {
      "cell_type": "markdown",
      "metadata": {},
      "source": [
        "### Step 2: Scope-Based Authorization\n\nDefine helpers to retrieve scopes from the environment and enforce them before tool execution. This prevents unauthorized access even in local stdio scenarios."
      ]
    },
    {
      "cell_type": "code",
      "execution_count": null,
      "metadata": {},
      "outputs": [],
      "source": [
        "from typing import Set\n\ndef get_scopes_from_env() -> Set[str]:\n    scopes = os.environ.get(\"MCP_SCOPES\", \"\")\n    return {s.strip() for s in scopes.split(\",\") if s.strip()}\n\ndef require_scope(required: str, scopes: Set[str]):\n    if required not in scopes:\n        raise PermissionError(f\"missing_scope:{required}\")"
      ]
    },
    {
      "cell_type": "markdown",
      "metadata": {},
      "source": [
        "### Step 3: Input Validation with Pydantic\n\nDefine strict schemas for tool inputs. These schemas reject hidden files, path traversal attempts, and oversized content."
      ]
    },
    {
      "cell_type": "code",
      "execution_count": null,
      "metadata": {},
      "outputs": [],
      "source": [
        "from pydantic import BaseModel, Field, field_validator\n\nDATA_ROOT = Path(os.environ.get(\"DATA_ROOT\", \"./data\")).resolve()\n\nclass ReadFileInput(BaseModel):\n    filename: str = Field(..., min_length=1, max_length=128, pattern=r\"^[A-Za-z0-9._-]+$\")\n\n    @field_validator(\"filename\")\n    @classmethod\n    def no_hidden_files(cls, v: str) -> str:\n        if v.startswith(\".\"):\n            raise ValueError(\"hidden files not allowed\")\n        return v\n\nclass WriteFileInput(BaseModel):\n    filename: str = Field(..., min_length=1, max_length=128, pattern=r\"^[A-Za-z0-9._-]+$\")\n    content: str = Field(..., max_length=10000)\n\n    @field_validator(\"filename\")\n    @classmethod\n    def no_hidden_files(cls, v: str) -> str:\n        if v.startswith(\".\"):\n            raise ValueError(\"hidden files not allowed\")\n        return v"
      ]
    },
    {
      "cell_type": "markdown",
      "metadata": {},
      "source": [
        "### Step 4: Implement Read-Only Tool\n\nThe `read_file` tool enforces the `files.read` scope, validates the path, and sanitizes output. It logs every invocation and redacts file content from logs."
      ]
    },
    {
      "cell_type": "code",
      "execution_count": null,
      "metadata": {},
      "outputs": [],
      "source": [
        "from mcp.server.fastmcp import FastMCP, Context\n\nmcp = FastMCP(\"secure-file-server\")\n\n@mcp.tool()\ndef read_file(ctx: Context, input: ReadFileInput) -> str:\n    scopes = get_scopes_from_env()\n    try:\n        require_scope(\"files.read\", scopes)\n        path = (DATA_ROOT / input.filename).resolve()\n        if not str(path).startswith(str(DATA_ROOT)):\n            raise ValueError(\"path outside DATA_ROOT\")\n        if not path.exists() or not path.is_file():\n            raise FileNotFoundError(\"not found\")\n        content = path.read_text(encoding=\"utf-8\")\n        audit_log(\n            \"tool_invocation\",\n            tool=\"read_file\",\n            ok=True,\n            inputs={\"filename\": sanitize(input.filename)},\n            redactions=[\"content\"],\n        )\n        safe_content = sanitize(content, max_len=10000)\n        return safe_content\n    except Exception as e:\n        audit_log(\n            \"tool_invocation\",\n            tool=\"read_file\",\n            ok=False,\n            error=str(e),\n            inputs={\"filename\": sanitize(getattr(input, 'filename', 'invalid'))},\n        )\n        raise"
      ]
    },
    {
      "cell_type": "markdown",
      "metadata": {},
      "source": [
        "### Step 5: Implement Write Tool\n\nThe `write_file` tool requires the `files.write` scope and performs the same path validation. It normalizes newlines and logs content length without exposing the full payload."
      ]
    },
    {
      "cell_type": "code",
      "execution_count": null,
      "metadata": {},
      "outputs": [],
      "source": [
        "@mcp.tool()\ndef write_file(ctx: Context, input: WriteFileInput) -> str:\n    scopes = get_scopes_from_env()\n    try:\n        require_scope(\"files.write\", scopes)\n        path = (DATA_ROOT / input.filename).resolve()\n        if not str(path).startswith(str(DATA_ROOT)):\n            raise ValueError(\"path outside DATA_ROOT\")\n        path.parent.mkdir(parents=True, exist_ok=True)\n        normalized = sanitize(input.content, max_len=10000).replace(\"\\r\\n\", \"\\n\")\n        path.write_text(normalized, encoding=\"utf-8\")\n        audit_log(\n            \"tool_invocation\",\n            tool=\"write_file\",\n            ok=True,\n            inputs={\"filename\": sanitize(input.filename), \"content_len\": len(normalized)},\n        )\n        return \"ok\"\n    except Exception as e:\n        audit_log(\n            \"tool_invocation\",\n            tool=\"write_file\",\n            ok=False,\n            error=str(e),\n            inputs={\n                \"filename\": sanitize(getattr(input, 'filename', 'invalid')),\n                \"content_len\": len(getattr(input, 'content', '')),\n            },\n        )\n        raise"
      ]
    },
    {
      "cell_type": "markdown",
      "metadata": {},
      "source": [
        "### Step 6: Start the Server\n\nLog server startup with tool names and data root, then run the server using stdio transport."
      ]
    },
    {
      "cell_type": "code",
      "execution_count": null,
      "metadata": {},
      "outputs": [],
      "source": [
        "if __name__ == \"__main__\":\n    audit_log(\"server_start\", tools=[\"read_file\", \"write_file\"], data_root=str(DATA_ROOT))\n    mcp.run()"
      ]
    },
    {
      "cell_type": "markdown",
      "metadata": {},
      "source": [
        "Save the complete server code to `server.py` for use by the client.\n\n---\n\n## Building the Client\n\nThis async client launches the server as a subprocess, negotiates protocol version, lists tools, and invokes them. It demonstrates scope enforcement by attempting a write with insufficient permissions."
      ]
    },
    {
      "cell_type": "code",
      "execution_count": null,
      "metadata": {},
      "outputs": [],
      "source": [
        "import asyncio\nfrom mcp.client.stdio import StdioServer\n\nPROTOCOL_VERSION = \"2025-06-18\"\n\nasync def main():\n    env = os.environ.copy()\n    env[\"MCP_SCOPES\"] = \"files.read,files.write\"\n    async with StdioServer.create(\"python\", [\"server.py\"], env=env) as server:\n        await server.initialize(\n            protocol_version=PROTOCOL_VERSION,\n            client_name=\"demo-client\",\n            client_version=\"1.0.0\",\n            capabilities={\"tools\": {\"invoke\": True, \"list\": True}},\n        )\n        tools = await server.list_tools()\n        print(\"Tools:\", json.dumps(tools, indent=2))\n\n        result = await server.call_tool(\"read_file\", {\"input\": {\"filename\": \"greeting.txt\"}})\n        print(\"read_file result:\", result)\n\nasyncio.run(main())"
      ]
    },
    {
      "cell_type": "markdown",
      "metadata": {},
      "source": [
        "To test scope enforcement, launch a new server subprocess with reduced scopes:"
      ]
    },
    {
      "cell_type": "code",
      "execution_count": null,
      "metadata": {},
      "outputs": [],
      "source": [
        "async def test_scope_enforcement():\n    env = os.environ.copy()\n    env[\"MCP_SCOPES\"] = \"files.read\"\n    async with StdioServer.create(\"python\", [\"server.py\"], env=env) as server:\n        await server.initialize(\n            protocol_version=PROTOCOL_VERSION,\n            client_name=\"demo-client\",\n            client_version=\"1.0.0\",\n            capabilities={\"tools\": {\"invoke\": True, \"list\": True}},\n        )\n        try:\n            await server.call_tool(\"write_file\", {\"input\": {\"filename\": \"new.txt\", \"content\": \"x\"}})\n        except Exception as e:\n            print(\"write_file rejected:\", e)\n\nasyncio.run(test_scope_enforcement())"
      ]
    },
    {
      "cell_type": "markdown",
      "metadata": {},
      "source": [
        "---\n\n## Run and Evaluate\n\nStart the server and client in separate cells or processes. The client will list tools, read `greeting.txt`, and demonstrate scope enforcement.\n\nTail JSON logs to verify audit events:"
      ]
    },
    {
      "cell_type": "code",
      "execution_count": null,
      "metadata": {},
      "outputs": [],
      "source": [
        "import subprocess\nsubprocess.run([\"tail\", \"-f\", \"/path/to/logs\"], check=False)"
      ]
    },
    {
      "cell_type": "markdown",
      "metadata": {},
      "source": [
        "Or capture logs programmatically and parse JSON records to confirm required fields (`ts`, `server_id`, `event`, `tool`, `ok`, `inputs`).\n\n---\n\n## Preventing Prompt Injection via Output Policy\n\nEven read-only tools can become injection vectors if outputs are not sanitized. The `read_file` tool removes control characters and truncates content to prevent malicious payloads from corrupting downstream prompts. For production, consider returning structured objects instead of plain strings:"
      ]
    },
    {
      "cell_type": "code",
      "execution_count": null,
      "metadata": {},
      "outputs": [],
      "source": [
        "return {\"content\": safe_content, \"path\": str(path), \"source\": \"file\"}"
      ]
    },
    {
      "cell_type": "markdown",
      "metadata": {},
      "source": [
        "This allows prompting layers to render safely and apply downstream policies. For a deeper dive into how prompt structure and information placement affect model behavior, see our article on [placing critical info in long prompts](/article/lost-in-the-middle-placing-critical-info-in-long-prompts).\n\n---\n\n## Protocol Version Negotiation\n\nClients and servers should exchange protocol versions and capabilities up front. The MCP spec uses date-based versions. Pick a target like `2025-06-18` and reject mismatches. Capabilities advertise what each side supports, enabling graceful fallback and explicit version checks. This yields deterministic behavior and eliminates hidden assumptions across environments. If you're interested in how context limitations can affect model reliability and what strategies can help, see our breakdown of [context rot and why LLMs \"forget\" as their memory grows](/article/context-rot-why-llms-forget-as-their-memory-grows-3).\n\nTo enforce version checks on the server, hook the `initialize` method in your MCP implementation to validate `protocolVersion` and reject unsupported clients. Consult the MCP spec at https://modelcontextprotocol.io/spec for details.\n\n---\n\n## Conclusion\n\nYou've built a secure MCP server that enforces least-privilege scopes, validates inputs with Pydantic, and emits structured audit logs. This foundation supports safe LLM tool integration without risking traversal, hidden file access, or unaudited writes.\n\n**Next steps**:\n- Expose the server over HTTP behind mTLS or bearer token authentication (covered in a separate tutorial).\n- Add change detection alerts by polling tool definitions and diffing snapshots (see `watch_tools.py` example in the code improvements)."
      ]
    }
  ],
  "metadata": {
    "title": "How to Implement Model Context Protocol MCP with Secure Permissions",
    "description": "Build a production-ready Model Context Protocol MCP server and client with secure permissions, authenticated transports, observability, and reproducible deployments today.",
    "kernelspec": {
      "display_name": "Python 3",
      "language": "python",
      "name": "python3"
    },
    "language_info": {
      "name": "python",
      "version": "3.8.0"
    }
  },
  "nbformat": 4,
  "nbformat_minor": 4
}