{
  "cells": [
    {
      "cell_type": "markdown",
      "metadata": {},
      "source": [
        "# 📓 The GenAI Revolution Cookbook\n\n**Title:** LangGraph Agent: How to Build a Deterministic Plan-Execute with Memory\n\n**Description:** Build a production-ready LangGraph agent that plans, executes, validates tools, persists state, remembers context, and serves a deterministic JSON /agent.\n\n---\n\n*This jupyter notebook contains executable code examples. Run the cells below to try out the code yourself!*\n\n"
      ]
    },
    {
      "cell_type": "markdown",
      "metadata": {},
      "source": [
        "\", result.get(\"final\\_answer\"))\nprint(\"Trace:\", result.get(\"trace\"))Expected output: The planner generates a plan with a `sum_numbers` tool step and a `respond` step. The executor runs the tool and synthesizes the answer.\n\n### Test error handling and replanning\n\nTrigger an error by requesting a non\\-existent KB topic:"
      ]
    },
    {
      "cell_type": "code",
      "execution_count": null,
      "metadata": {},
      "outputs": [],
      "source": [
        "result = app_graph.invoke(\n    {\"user_input\": \"What is the warranty policy?\"},\n    config={\"configurable\": {\"thread_id\": \"test-thread-2\"}}\n)\nprint(\"Error:\", result.get(\"error\"))\nprint(\"Trace:\", result.get(\"trace\"))"
      ]
    },
    {
      "cell_type": "markdown",
      "metadata": {},
      "source": [
        "Expected output: The executor fails on the `kb_retrieve` step, routes to replan, and generates a revised plan (or returns a partial answer if replanning also fails).\n\n### Run the FastAPI server\n\nStart the server in a notebook or local environment:"
      ]
    },
    {
      "cell_type": "code",
      "execution_count": null,
      "metadata": {},
      "outputs": [],
      "source": [
        "import uvicorn\nimport nest_asyncio</p>\n<p>nest_asyncio.apply()  # Required for running uvicorn in Jupyter/Colab\nuvicorn.run(api, host=\"0.0.0.0\", port=8000, log_level=\"info\")"
      ]
    },
    {
      "cell_type": "markdown",
      "metadata": {},
      "source": [
        "In a separate terminal or notebook cell, test the endpoint:"
      ]
    },
    {
      "cell_type": "code",
      "execution_count": null,
      "metadata": {},
      "outputs": [],
      "source": [
        "import requests</p>\n<p>response = requests.post(\"<a href=\"http://localhost:8000/agent\">http://localhost:8000/agent</a>\", json={\n    \"thread_id\": \"user-123\",\n    \"query\": \"What is 5 + 10?\"\n})\nprint(response.json())"
      ]
    },
    {
      "cell_type": "markdown",
      "metadata": {},
      "source": [
        "Expected output: A JSON response with `plan`, `step_results`, `final_answer`, and `trace`.\n\n## Conclusion\n\nYou've built a deterministic, plan\\-execute agent with LangGraph, Pydantic\\-validated tools, and a FastAPI endpoint. The system plans before acting, validates every tool call, and recovers from errors via replanning. Memory persists across turns using checkpointers, enabling multi\\-turn workflows.\n\n**Key decisions:**\n\n* **LangGraph** for deterministic routing and state management\n* **Pydantic** for strict input/output validation\n* **FastAPI** for a lightweight, typed API\n* **Temperature\\=0** for reproducible planning\n\n**Next steps:**\n\n* Swap `MemorySaver` for `PostgresSaver` for production persistence\n* Add retries with exponential backoff for transient tool failures\n* Extend the tool registry with new tools (e.g., database queries, external APIs)\n* Add observability with structured logging or tracing (e.g., LangSmith)\n* Harden prompts with explicit constraints and few\\-shot examples\n\nThis architecture scales from prototypes to production. Start with the core build, validate it end\\-to\\-end, then layer in production features as needed."
      ]
    }
  ],
  "metadata": {
    "title": "LangGraph Agent: How to Build a Deterministic Plan-Execute with Memory",
    "description": "Build a production-ready LangGraph agent that plans, executes, validates tools, persists state, remembers context, and serves a deterministic JSON /agent.",
    "kernelspec": {
      "display_name": "Python 3",
      "language": "python",
      "name": "python3"
    },
    "language_info": {
      "name": "python",
      "version": "3.8.0"
    }
  },
  "nbformat": 4,
  "nbformat_minor": 4
}